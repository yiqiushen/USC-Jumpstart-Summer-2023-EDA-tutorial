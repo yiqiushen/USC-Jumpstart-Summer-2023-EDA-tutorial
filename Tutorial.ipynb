{
 "cells": [
  {
   "attachments": {},
   "cell_type": "markdown",
   "metadata": {},
   "source": [
    "# Introduction to Data Wrangling and Explanatory Data Analysis (EDA)\n",
    "\n",
    "This original tutorial is written by Yiqiu Shen (yiqiushe@usc.edu) for the USC JumpStart Summer Program 2023 at the Department of Data Sciences and Operations, Marshall School of Business. Should you have any questions, feel free to contact me.  \n",
    "\n",
    "## Data Wrangling"
   ]
  },
  {
   "attachments": {},
   "cell_type": "markdown",
   "metadata": {},
   "source": [
    "The datasets we will use are: https://www.kaggle.com/datasets/rojour/boston-results.  These are lists of the finishers of the Boston Marathon of 2015, 2016 and 2017 respectively, and contain the name, age, gender, country, city and state (where available), times at 9 different stages of the race, expected time, finish time and pace, overall place, gender place and division place."
   ]
  },
  {
   "attachments": {},
   "cell_type": "markdown",
   "metadata": {},
   "source": [
    "### Load the datasets, aggregate the datasets"
   ]
  },
  {
   "cell_type": "code",
   "execution_count": 2,
   "metadata": {},
   "outputs": [],
   "source": [
    "import pandas as pd\n",
    "import numpy as np\n",
    "\n",
    "data_2015 = pd.read_csv(\"./marathon_results_2015.csv\")\n",
    "data_2016 = pd.read_csv(\"./marathon_results_2016.csv\")\n",
    "data_2017 = pd.read_csv(\"./marathon_results_2017.csv\")\n",
    "\n",
    "# Add a new column 'Year' with the corresponding year for each dataframe\n",
    "data_2015['Year'] = 2015\n",
    "data_2016['Year'] = 2016\n",
    "data_2017['Year'] = 2017\n",
    "\n",
    "# Concatenate the three dataframes into a single dataframe 'df'\n",
    "df = pd.concat([data_2015, data_2016, data_2017], ignore_index=True)\n"
   ]
  },
  {
   "attachments": {},
   "cell_type": "markdown",
   "metadata": {},
   "source": [
    "### Inspect the dataset\n",
    "\n",
    "First, let us inspect some entries from the dataframe to get a rough impression. We can start with the first entries: "
   ]
  },
  {
   "cell_type": "code",
   "execution_count": 3,
   "metadata": {},
   "outputs": [
    {
     "data": {
      "text/html": [
       "<div>\n",
       "<style scoped>\n",
       "    .dataframe tbody tr th:only-of-type {\n",
       "        vertical-align: middle;\n",
       "    }\n",
       "\n",
       "    .dataframe tbody tr th {\n",
       "        vertical-align: top;\n",
       "    }\n",
       "\n",
       "    .dataframe thead th {\n",
       "        text-align: right;\n",
       "    }\n",
       "</style>\n",
       "<table border=\"1\" class=\"dataframe\">\n",
       "  <thead>\n",
       "    <tr style=\"text-align: right;\">\n",
       "      <th></th>\n",
       "      <th>Unnamed: 0</th>\n",
       "      <th>Bib</th>\n",
       "      <th>Name</th>\n",
       "      <th>Age</th>\n",
       "      <th>M/F</th>\n",
       "      <th>City</th>\n",
       "      <th>State</th>\n",
       "      <th>Country</th>\n",
       "      <th>Citizen</th>\n",
       "      <th>Unnamed: 9</th>\n",
       "      <th>...</th>\n",
       "      <th>35K</th>\n",
       "      <th>40K</th>\n",
       "      <th>Pace</th>\n",
       "      <th>Proj Time</th>\n",
       "      <th>Official Time</th>\n",
       "      <th>Overall</th>\n",
       "      <th>Gender</th>\n",
       "      <th>Division</th>\n",
       "      <th>Year</th>\n",
       "      <th>Unnamed: 8</th>\n",
       "    </tr>\n",
       "  </thead>\n",
       "  <tbody>\n",
       "    <tr>\n",
       "      <th>0</th>\n",
       "      <td>0.0</td>\n",
       "      <td>3</td>\n",
       "      <td>Desisa, Lelisa</td>\n",
       "      <td>25</td>\n",
       "      <td>M</td>\n",
       "      <td>Ambo</td>\n",
       "      <td>NaN</td>\n",
       "      <td>ETH</td>\n",
       "      <td>NaN</td>\n",
       "      <td>NaN</td>\n",
       "      <td>...</td>\n",
       "      <td>1:47:59</td>\n",
       "      <td>2:02:39</td>\n",
       "      <td>0:04:56</td>\n",
       "      <td>-</td>\n",
       "      <td>2:09:17</td>\n",
       "      <td>1</td>\n",
       "      <td>1</td>\n",
       "      <td>1</td>\n",
       "      <td>2015</td>\n",
       "      <td>NaN</td>\n",
       "    </tr>\n",
       "    <tr>\n",
       "      <th>1</th>\n",
       "      <td>1.0</td>\n",
       "      <td>4</td>\n",
       "      <td>Tsegay, Yemane Adhane</td>\n",
       "      <td>30</td>\n",
       "      <td>M</td>\n",
       "      <td>Addis Ababa</td>\n",
       "      <td>NaN</td>\n",
       "      <td>ETH</td>\n",
       "      <td>NaN</td>\n",
       "      <td>NaN</td>\n",
       "      <td>...</td>\n",
       "      <td>1:47:59</td>\n",
       "      <td>2:02:42</td>\n",
       "      <td>0:04:58</td>\n",
       "      <td>-</td>\n",
       "      <td>2:09:48</td>\n",
       "      <td>2</td>\n",
       "      <td>2</td>\n",
       "      <td>2</td>\n",
       "      <td>2015</td>\n",
       "      <td>NaN</td>\n",
       "    </tr>\n",
       "    <tr>\n",
       "      <th>2</th>\n",
       "      <td>2.0</td>\n",
       "      <td>8</td>\n",
       "      <td>Chebet, Wilson</td>\n",
       "      <td>29</td>\n",
       "      <td>M</td>\n",
       "      <td>Marakwet</td>\n",
       "      <td>NaN</td>\n",
       "      <td>KEN</td>\n",
       "      <td>NaN</td>\n",
       "      <td>NaN</td>\n",
       "      <td>...</td>\n",
       "      <td>1:47:59</td>\n",
       "      <td>2:03:01</td>\n",
       "      <td>0:04:59</td>\n",
       "      <td>-</td>\n",
       "      <td>2:10:22</td>\n",
       "      <td>3</td>\n",
       "      <td>3</td>\n",
       "      <td>3</td>\n",
       "      <td>2015</td>\n",
       "      <td>NaN</td>\n",
       "    </tr>\n",
       "    <tr>\n",
       "      <th>3</th>\n",
       "      <td>3.0</td>\n",
       "      <td>11</td>\n",
       "      <td>Kipyego, Bernard</td>\n",
       "      <td>28</td>\n",
       "      <td>M</td>\n",
       "      <td>Eldoret</td>\n",
       "      <td>NaN</td>\n",
       "      <td>KEN</td>\n",
       "      <td>NaN</td>\n",
       "      <td>NaN</td>\n",
       "      <td>...</td>\n",
       "      <td>1:48:03</td>\n",
       "      <td>2:03:47</td>\n",
       "      <td>0:05:00</td>\n",
       "      <td>-</td>\n",
       "      <td>2:10:47</td>\n",
       "      <td>4</td>\n",
       "      <td>4</td>\n",
       "      <td>4</td>\n",
       "      <td>2015</td>\n",
       "      <td>NaN</td>\n",
       "    </tr>\n",
       "    <tr>\n",
       "      <th>4</th>\n",
       "      <td>4.0</td>\n",
       "      <td>10</td>\n",
       "      <td>Korir, Wesley</td>\n",
       "      <td>32</td>\n",
       "      <td>M</td>\n",
       "      <td>Kitale</td>\n",
       "      <td>NaN</td>\n",
       "      <td>KEN</td>\n",
       "      <td>NaN</td>\n",
       "      <td>NaN</td>\n",
       "      <td>...</td>\n",
       "      <td>1:47:59</td>\n",
       "      <td>2:03:27</td>\n",
       "      <td>0:05:00</td>\n",
       "      <td>-</td>\n",
       "      <td>2:10:49</td>\n",
       "      <td>5</td>\n",
       "      <td>5</td>\n",
       "      <td>5</td>\n",
       "      <td>2015</td>\n",
       "      <td>NaN</td>\n",
       "    </tr>\n",
       "  </tbody>\n",
       "</table>\n",
       "<p>5 rows × 27 columns</p>\n",
       "</div>"
      ],
      "text/plain": [
       "   Unnamed: 0 Bib                   Name  Age M/F         City State Country  \\\n",
       "0         0.0   3         Desisa, Lelisa   25   M         Ambo   NaN     ETH   \n",
       "1         1.0   4  Tsegay, Yemane Adhane   30   M  Addis Ababa   NaN     ETH   \n",
       "2         2.0   8         Chebet, Wilson   29   M     Marakwet   NaN     KEN   \n",
       "3         3.0  11       Kipyego, Bernard   28   M      Eldoret   NaN     KEN   \n",
       "4         4.0  10          Korir, Wesley   32   M       Kitale   NaN     KEN   \n",
       "\n",
       "  Citizen Unnamed: 9  ...      35K      40K     Pace Proj Time Official Time  \\\n",
       "0     NaN        NaN  ...  1:47:59  2:02:39  0:04:56         -       2:09:17   \n",
       "1     NaN        NaN  ...  1:47:59  2:02:42  0:04:58         -       2:09:48   \n",
       "2     NaN        NaN  ...  1:47:59  2:03:01  0:04:59         -       2:10:22   \n",
       "3     NaN        NaN  ...  1:48:03  2:03:47  0:05:00         -       2:10:47   \n",
       "4     NaN        NaN  ...  1:47:59  2:03:27  0:05:00         -       2:10:49   \n",
       "\n",
       "  Overall Gender Division  Year Unnamed: 8  \n",
       "0       1      1        1  2015        NaN  \n",
       "1       2      2        2  2015        NaN  \n",
       "2       3      3        3  2015        NaN  \n",
       "3       4      4        4  2015        NaN  \n",
       "4       5      5        5  2015        NaN  \n",
       "\n",
       "[5 rows x 27 columns]"
      ]
     },
     "execution_count": 3,
     "metadata": {},
     "output_type": "execute_result"
    }
   ],
   "source": [
    "df.head()\n"
   ]
  },
  {
   "attachments": {},
   "cell_type": "markdown",
   "metadata": {},
   "source": [
    "Or the last entries: "
   ]
  },
  {
   "cell_type": "code",
   "execution_count": 4,
   "metadata": {},
   "outputs": [
    {
     "data": {
      "text/html": [
       "<div>\n",
       "<style scoped>\n",
       "    .dataframe tbody tr th:only-of-type {\n",
       "        vertical-align: middle;\n",
       "    }\n",
       "\n",
       "    .dataframe tbody tr th {\n",
       "        vertical-align: top;\n",
       "    }\n",
       "\n",
       "    .dataframe thead th {\n",
       "        text-align: right;\n",
       "    }\n",
       "</style>\n",
       "<table border=\"1\" class=\"dataframe\">\n",
       "  <thead>\n",
       "    <tr style=\"text-align: right;\">\n",
       "      <th></th>\n",
       "      <th>Unnamed: 0</th>\n",
       "      <th>Bib</th>\n",
       "      <th>Name</th>\n",
       "      <th>Age</th>\n",
       "      <th>M/F</th>\n",
       "      <th>City</th>\n",
       "      <th>State</th>\n",
       "      <th>Country</th>\n",
       "      <th>Citizen</th>\n",
       "      <th>Unnamed: 9</th>\n",
       "      <th>...</th>\n",
       "      <th>35K</th>\n",
       "      <th>40K</th>\n",
       "      <th>Pace</th>\n",
       "      <th>Proj Time</th>\n",
       "      <th>Official Time</th>\n",
       "      <th>Overall</th>\n",
       "      <th>Gender</th>\n",
       "      <th>Division</th>\n",
       "      <th>Year</th>\n",
       "      <th>Unnamed: 8</th>\n",
       "    </tr>\n",
       "  </thead>\n",
       "  <tbody>\n",
       "    <tr>\n",
       "      <th>79633</th>\n",
       "      <td>26405.0</td>\n",
       "      <td>25166</td>\n",
       "      <td>Steinbach, Paula Eyvonne</td>\n",
       "      <td>61</td>\n",
       "      <td>F</td>\n",
       "      <td>Ontario</td>\n",
       "      <td>CA</td>\n",
       "      <td>USA</td>\n",
       "      <td>NaN</td>\n",
       "      <td>MI</td>\n",
       "      <td>...</td>\n",
       "      <td>5:55:18</td>\n",
       "      <td>6:46:57</td>\n",
       "      <td>0:16:24</td>\n",
       "      <td>-</td>\n",
       "      <td>7:09:39</td>\n",
       "      <td>26407</td>\n",
       "      <td>11972</td>\n",
       "      <td>344</td>\n",
       "      <td>2017</td>\n",
       "      <td>NaN</td>\n",
       "    </tr>\n",
       "    <tr>\n",
       "      <th>79634</th>\n",
       "      <td>26406.0</td>\n",
       "      <td>25178</td>\n",
       "      <td>Avelino, Andrew R.</td>\n",
       "      <td>25</td>\n",
       "      <td>M</td>\n",
       "      <td>Fayetteville</td>\n",
       "      <td>NC</td>\n",
       "      <td>USA</td>\n",
       "      <td>NaN</td>\n",
       "      <td>MI</td>\n",
       "      <td>...</td>\n",
       "      <td>5:53:48</td>\n",
       "      <td>6:54:21</td>\n",
       "      <td>0:16:40</td>\n",
       "      <td>-</td>\n",
       "      <td>7:16:59</td>\n",
       "      <td>26408</td>\n",
       "      <td>14436</td>\n",
       "      <td>4774</td>\n",
       "      <td>2017</td>\n",
       "      <td>NaN</td>\n",
       "    </tr>\n",
       "    <tr>\n",
       "      <th>79635</th>\n",
       "      <td>26407.0</td>\n",
       "      <td>27086</td>\n",
       "      <td>Hantel, Johanna</td>\n",
       "      <td>57</td>\n",
       "      <td>F</td>\n",
       "      <td>Malvern</td>\n",
       "      <td>PA</td>\n",
       "      <td>USA</td>\n",
       "      <td>NaN</td>\n",
       "      <td>NaN</td>\n",
       "      <td>...</td>\n",
       "      <td>6:00:33</td>\n",
       "      <td>6:54:38</td>\n",
       "      <td>0:16:47</td>\n",
       "      <td>-</td>\n",
       "      <td>7:19:37</td>\n",
       "      <td>26409</td>\n",
       "      <td>11973</td>\n",
       "      <td>698</td>\n",
       "      <td>2017</td>\n",
       "      <td>NaN</td>\n",
       "    </tr>\n",
       "    <tr>\n",
       "      <th>79636</th>\n",
       "      <td>26408.0</td>\n",
       "      <td>25268</td>\n",
       "      <td>Reilly, Bill</td>\n",
       "      <td>64</td>\n",
       "      <td>M</td>\n",
       "      <td>New York</td>\n",
       "      <td>NY</td>\n",
       "      <td>USA</td>\n",
       "      <td>NaN</td>\n",
       "      <td>MI</td>\n",
       "      <td>...</td>\n",
       "      <td>6:06:07</td>\n",
       "      <td>6:56:08</td>\n",
       "      <td>0:16:49</td>\n",
       "      <td>-</td>\n",
       "      <td>7:20:44</td>\n",
       "      <td>26410</td>\n",
       "      <td>14437</td>\n",
       "      <td>1043</td>\n",
       "      <td>2017</td>\n",
       "      <td>NaN</td>\n",
       "    </tr>\n",
       "    <tr>\n",
       "      <th>79637</th>\n",
       "      <td>26409.0</td>\n",
       "      <td>25266</td>\n",
       "      <td>Rigsby, Scott</td>\n",
       "      <td>48</td>\n",
       "      <td>M</td>\n",
       "      <td>Alpharetta</td>\n",
       "      <td>GA</td>\n",
       "      <td>USA</td>\n",
       "      <td>NaN</td>\n",
       "      <td>MI</td>\n",
       "      <td>...</td>\n",
       "      <td>6:39:07</td>\n",
       "      <td>7:41:23</td>\n",
       "      <td>0:18:15</td>\n",
       "      <td>-</td>\n",
       "      <td>7:58:14</td>\n",
       "      <td>26411</td>\n",
       "      <td>14438</td>\n",
       "      <td>2553</td>\n",
       "      <td>2017</td>\n",
       "      <td>NaN</td>\n",
       "    </tr>\n",
       "  </tbody>\n",
       "</table>\n",
       "<p>5 rows × 27 columns</p>\n",
       "</div>"
      ],
      "text/plain": [
       "       Unnamed: 0    Bib                      Name  Age M/F          City  \\\n",
       "79633     26405.0  25166  Steinbach, Paula Eyvonne   61   F       Ontario   \n",
       "79634     26406.0  25178        Avelino, Andrew R.   25   M  Fayetteville   \n",
       "79635     26407.0  27086           Hantel, Johanna   57   F       Malvern   \n",
       "79636     26408.0  25268              Reilly, Bill   64   M      New York   \n",
       "79637     26409.0  25266             Rigsby, Scott   48   M    Alpharetta   \n",
       "\n",
       "      State Country Citizen Unnamed: 9  ...      35K      40K     Pace  \\\n",
       "79633    CA     USA     NaN         MI  ...  5:55:18  6:46:57  0:16:24   \n",
       "79634    NC     USA     NaN         MI  ...  5:53:48  6:54:21  0:16:40   \n",
       "79635    PA     USA     NaN        NaN  ...  6:00:33  6:54:38  0:16:47   \n",
       "79636    NY     USA     NaN         MI  ...  6:06:07  6:56:08  0:16:49   \n",
       "79637    GA     USA     NaN         MI  ...  6:39:07  7:41:23  0:18:15   \n",
       "\n",
       "      Proj Time Official Time Overall Gender Division  Year Unnamed: 8  \n",
       "79633         -       7:09:39   26407  11972      344  2017        NaN  \n",
       "79634         -       7:16:59   26408  14436     4774  2017        NaN  \n",
       "79635         -       7:19:37   26409  11973      698  2017        NaN  \n",
       "79636         -       7:20:44   26410  14437     1043  2017        NaN  \n",
       "79637         -       7:58:14   26411  14438     2553  2017        NaN  \n",
       "\n",
       "[5 rows x 27 columns]"
      ]
     },
     "execution_count": 4,
     "metadata": {},
     "output_type": "execute_result"
    }
   ],
   "source": [
    "df.tail()"
   ]
  },
  {
   "attachments": {},
   "cell_type": "markdown",
   "metadata": {},
   "source": [
    "Or even some random entries:"
   ]
  },
  {
   "cell_type": "code",
   "execution_count": 5,
   "metadata": {},
   "outputs": [
    {
     "data": {
      "text/html": [
       "<div>\n",
       "<style scoped>\n",
       "    .dataframe tbody tr th:only-of-type {\n",
       "        vertical-align: middle;\n",
       "    }\n",
       "\n",
       "    .dataframe tbody tr th {\n",
       "        vertical-align: top;\n",
       "    }\n",
       "\n",
       "    .dataframe thead th {\n",
       "        text-align: right;\n",
       "    }\n",
       "</style>\n",
       "<table border=\"1\" class=\"dataframe\">\n",
       "  <thead>\n",
       "    <tr style=\"text-align: right;\">\n",
       "      <th></th>\n",
       "      <th>Unnamed: 0</th>\n",
       "      <th>Bib</th>\n",
       "      <th>Name</th>\n",
       "      <th>Age</th>\n",
       "      <th>M/F</th>\n",
       "      <th>City</th>\n",
       "      <th>State</th>\n",
       "      <th>Country</th>\n",
       "      <th>Citizen</th>\n",
       "      <th>Unnamed: 9</th>\n",
       "      <th>...</th>\n",
       "      <th>35K</th>\n",
       "      <th>40K</th>\n",
       "      <th>Pace</th>\n",
       "      <th>Proj Time</th>\n",
       "      <th>Official Time</th>\n",
       "      <th>Overall</th>\n",
       "      <th>Gender</th>\n",
       "      <th>Division</th>\n",
       "      <th>Year</th>\n",
       "      <th>Unnamed: 8</th>\n",
       "    </tr>\n",
       "  </thead>\n",
       "  <tbody>\n",
       "    <tr>\n",
       "      <th>41346</th>\n",
       "      <td>NaN</td>\n",
       "      <td>18950</td>\n",
       "      <td>Ballard, Rachel</td>\n",
       "      <td>51</td>\n",
       "      <td>F</td>\n",
       "      <td>Chicago</td>\n",
       "      <td>IL</td>\n",
       "      <td>USA</td>\n",
       "      <td>NaN</td>\n",
       "      <td>NaN</td>\n",
       "      <td>...</td>\n",
       "      <td>3:12:31</td>\n",
       "      <td>3:40:21</td>\n",
       "      <td>0:08:53</td>\n",
       "      <td>3:52:50</td>\n",
       "      <td>3:52:50</td>\n",
       "      <td>14748</td>\n",
       "      <td>5368</td>\n",
       "      <td>319</td>\n",
       "      <td>2016</td>\n",
       "      <td>NaN</td>\n",
       "    </tr>\n",
       "    <tr>\n",
       "      <th>68643</th>\n",
       "      <td>15415.0</td>\n",
       "      <td>27932</td>\n",
       "      <td>Jaques, Preble</td>\n",
       "      <td>45</td>\n",
       "      <td>M</td>\n",
       "      <td>Brookline</td>\n",
       "      <td>MA</td>\n",
       "      <td>USA</td>\n",
       "      <td>NaN</td>\n",
       "      <td>NaN</td>\n",
       "      <td>...</td>\n",
       "      <td>3:17:35</td>\n",
       "      <td>3:46:45</td>\n",
       "      <td>0:09:08</td>\n",
       "      <td>-</td>\n",
       "      <td>3:59:14</td>\n",
       "      <td>15417</td>\n",
       "      <td>9659</td>\n",
       "      <td>1886</td>\n",
       "      <td>2017</td>\n",
       "      <td>NaN</td>\n",
       "    </tr>\n",
       "    <tr>\n",
       "      <th>62627</th>\n",
       "      <td>9399.0</td>\n",
       "      <td>6957</td>\n",
       "      <td>Hiatt, Alan J</td>\n",
       "      <td>46</td>\n",
       "      <td>M</td>\n",
       "      <td>San Marcos</td>\n",
       "      <td>CA</td>\n",
       "      <td>USA</td>\n",
       "      <td>NaN</td>\n",
       "      <td>NaN</td>\n",
       "      <td>...</td>\n",
       "      <td>2:56:48</td>\n",
       "      <td>3:25:33</td>\n",
       "      <td>0:08:21</td>\n",
       "      <td>-</td>\n",
       "      <td>3:38:47</td>\n",
       "      <td>9401</td>\n",
       "      <td>6850</td>\n",
       "      <td>1272</td>\n",
       "      <td>2017</td>\n",
       "      <td>NaN</td>\n",
       "    </tr>\n",
       "    <tr>\n",
       "      <th>4645</th>\n",
       "      <td>4645.0</td>\n",
       "      <td>8181</td>\n",
       "      <td>Podles, Robert</td>\n",
       "      <td>52</td>\n",
       "      <td>M</td>\n",
       "      <td>Warsaw</td>\n",
       "      <td>NaN</td>\n",
       "      <td>POL</td>\n",
       "      <td>NaN</td>\n",
       "      <td>NaN</td>\n",
       "      <td>...</td>\n",
       "      <td>2:36:37</td>\n",
       "      <td>2:59:36</td>\n",
       "      <td>0:07:15</td>\n",
       "      <td>-</td>\n",
       "      <td>3:09:58</td>\n",
       "      <td>4646</td>\n",
       "      <td>4243</td>\n",
       "      <td>208</td>\n",
       "      <td>2015</td>\n",
       "      <td>NaN</td>\n",
       "    </tr>\n",
       "    <tr>\n",
       "      <th>48530</th>\n",
       "      <td>NaN</td>\n",
       "      <td>21163</td>\n",
       "      <td>Cabaniss, Mike</td>\n",
       "      <td>61</td>\n",
       "      <td>M</td>\n",
       "      <td>Groves</td>\n",
       "      <td>TX</td>\n",
       "      <td>USA</td>\n",
       "      <td>NaN</td>\n",
       "      <td>NaN</td>\n",
       "      <td>...</td>\n",
       "      <td>3:36:21</td>\n",
       "      <td>4:16:35</td>\n",
       "      <td>0:10:20</td>\n",
       "      <td>4:30:47</td>\n",
       "      <td>4:30:47</td>\n",
       "      <td>21932</td>\n",
       "      <td>12374</td>\n",
       "      <td>771</td>\n",
       "      <td>2016</td>\n",
       "      <td>NaN</td>\n",
       "    </tr>\n",
       "    <tr>\n",
       "      <th>36164</th>\n",
       "      <td>NaN</td>\n",
       "      <td>13363</td>\n",
       "      <td>Richard, Richard J</td>\n",
       "      <td>65</td>\n",
       "      <td>M</td>\n",
       "      <td>New Minas</td>\n",
       "      <td>NS</td>\n",
       "      <td>CAN</td>\n",
       "      <td>NaN</td>\n",
       "      <td>NaN</td>\n",
       "      <td>...</td>\n",
       "      <td>2:58:04</td>\n",
       "      <td>3:24:22</td>\n",
       "      <td>0:08:15</td>\n",
       "      <td>3:36:07</td>\n",
       "      <td>3:36:07</td>\n",
       "      <td>9566</td>\n",
       "      <td>7033</td>\n",
       "      <td>16</td>\n",
       "      <td>2016</td>\n",
       "      <td>NaN</td>\n",
       "    </tr>\n",
       "    <tr>\n",
       "      <th>16001</th>\n",
       "      <td>16001.0</td>\n",
       "      <td>16904</td>\n",
       "      <td>Puig Holzman, Sarah</td>\n",
       "      <td>20</td>\n",
       "      <td>F</td>\n",
       "      <td>Cottonwood Heights</td>\n",
       "      <td>UT</td>\n",
       "      <td>USA</td>\n",
       "      <td>NaN</td>\n",
       "      <td>NaN</td>\n",
       "      <td>...</td>\n",
       "      <td>3:08:02</td>\n",
       "      <td>3:36:25</td>\n",
       "      <td>0:08:44</td>\n",
       "      <td>-</td>\n",
       "      <td>3:48:48</td>\n",
       "      <td>16002</td>\n",
       "      <td>5854</td>\n",
       "      <td>3697</td>\n",
       "      <td>2015</td>\n",
       "      <td>NaN</td>\n",
       "    </tr>\n",
       "    <tr>\n",
       "      <th>19628</th>\n",
       "      <td>19628.0</td>\n",
       "      <td>24920</td>\n",
       "      <td>Ferre, Paula</td>\n",
       "      <td>61</td>\n",
       "      <td>F</td>\n",
       "      <td>Concord</td>\n",
       "      <td>CA</td>\n",
       "      <td>USA</td>\n",
       "      <td>NaN</td>\n",
       "      <td>NaN</td>\n",
       "      <td>...</td>\n",
       "      <td>3:21:26</td>\n",
       "      <td>3:51:03</td>\n",
       "      <td>0:09:20</td>\n",
       "      <td>-</td>\n",
       "      <td>4:04:21</td>\n",
       "      <td>19629</td>\n",
       "      <td>8032</td>\n",
       "      <td>43</td>\n",
       "      <td>2015</td>\n",
       "      <td>NaN</td>\n",
       "    </tr>\n",
       "    <tr>\n",
       "      <th>70303</th>\n",
       "      <td>17075.0</td>\n",
       "      <td>27729</td>\n",
       "      <td>Morse, Jamie W.</td>\n",
       "      <td>38</td>\n",
       "      <td>F</td>\n",
       "      <td>Nashua</td>\n",
       "      <td>NH</td>\n",
       "      <td>USA</td>\n",
       "      <td>NaN</td>\n",
       "      <td>NaN</td>\n",
       "      <td>...</td>\n",
       "      <td>3:23:30</td>\n",
       "      <td>3:54:07</td>\n",
       "      <td>0:09:26</td>\n",
       "      <td>-</td>\n",
       "      <td>4:06:55</td>\n",
       "      <td>17077</td>\n",
       "      <td>6734</td>\n",
       "      <td>3813</td>\n",
       "      <td>2017</td>\n",
       "      <td>NaN</td>\n",
       "    </tr>\n",
       "    <tr>\n",
       "      <th>41294</th>\n",
       "      <td>NaN</td>\n",
       "      <td>6113</td>\n",
       "      <td>Burns, Rusty A</td>\n",
       "      <td>46</td>\n",
       "      <td>M</td>\n",
       "      <td>Fayetteville</td>\n",
       "      <td>GA</td>\n",
       "      <td>USA</td>\n",
       "      <td>NaN</td>\n",
       "      <td>NaN</td>\n",
       "      <td>...</td>\n",
       "      <td>3:03:45</td>\n",
       "      <td>3:39:17</td>\n",
       "      <td>0:08:53</td>\n",
       "      <td>3:52:41</td>\n",
       "      <td>3:52:41</td>\n",
       "      <td>14696</td>\n",
       "      <td>9357</td>\n",
       "      <td>1787</td>\n",
       "      <td>2016</td>\n",
       "      <td>NaN</td>\n",
       "    </tr>\n",
       "  </tbody>\n",
       "</table>\n",
       "<p>10 rows × 27 columns</p>\n",
       "</div>"
      ],
      "text/plain": [
       "       Unnamed: 0    Bib                 Name  Age M/F                City  \\\n",
       "41346         NaN  18950      Ballard, Rachel   51   F             Chicago   \n",
       "68643     15415.0  27932       Jaques, Preble   45   M           Brookline   \n",
       "62627      9399.0   6957        Hiatt, Alan J   46   M          San Marcos   \n",
       "4645       4645.0   8181       Podles, Robert   52   M              Warsaw   \n",
       "48530         NaN  21163       Cabaniss, Mike   61   M              Groves   \n",
       "36164         NaN  13363   Richard, Richard J   65   M           New Minas   \n",
       "16001     16001.0  16904  Puig Holzman, Sarah   20   F  Cottonwood Heights   \n",
       "19628     19628.0  24920         Ferre, Paula   61   F             Concord   \n",
       "70303     17075.0  27729      Morse, Jamie W.   38   F              Nashua   \n",
       "41294         NaN   6113       Burns, Rusty A   46   M        Fayetteville   \n",
       "\n",
       "      State Country Citizen Unnamed: 9  ...      35K      40K     Pace  \\\n",
       "41346    IL     USA     NaN        NaN  ...  3:12:31  3:40:21  0:08:53   \n",
       "68643    MA     USA     NaN        NaN  ...  3:17:35  3:46:45  0:09:08   \n",
       "62627    CA     USA     NaN        NaN  ...  2:56:48  3:25:33  0:08:21   \n",
       "4645    NaN     POL     NaN        NaN  ...  2:36:37  2:59:36  0:07:15   \n",
       "48530    TX     USA     NaN        NaN  ...  3:36:21  4:16:35  0:10:20   \n",
       "36164    NS     CAN     NaN        NaN  ...  2:58:04  3:24:22  0:08:15   \n",
       "16001    UT     USA     NaN        NaN  ...  3:08:02  3:36:25  0:08:44   \n",
       "19628    CA     USA     NaN        NaN  ...  3:21:26  3:51:03  0:09:20   \n",
       "70303    NH     USA     NaN        NaN  ...  3:23:30  3:54:07  0:09:26   \n",
       "41294    GA     USA     NaN        NaN  ...  3:03:45  3:39:17  0:08:53   \n",
       "\n",
       "      Proj Time Official Time Overall Gender Division  Year Unnamed: 8  \n",
       "41346   3:52:50       3:52:50   14748   5368      319  2016        NaN  \n",
       "68643         -       3:59:14   15417   9659     1886  2017        NaN  \n",
       "62627         -       3:38:47    9401   6850     1272  2017        NaN  \n",
       "4645          -       3:09:58    4646   4243      208  2015        NaN  \n",
       "48530   4:30:47       4:30:47   21932  12374      771  2016        NaN  \n",
       "36164   3:36:07       3:36:07    9566   7033       16  2016        NaN  \n",
       "16001         -       3:48:48   16002   5854     3697  2015        NaN  \n",
       "19628         -       4:04:21   19629   8032       43  2015        NaN  \n",
       "70303         -       4:06:55   17077   6734     3813  2017        NaN  \n",
       "41294   3:52:41       3:52:41   14696   9357     1787  2016        NaN  \n",
       "\n",
       "[10 rows x 27 columns]"
      ]
     },
     "execution_count": 5,
     "metadata": {},
     "output_type": "execute_result"
    }
   ],
   "source": [
    "df.sample(10)\n",
    "# Default sample is executed without replacement. If you want to sample with replacement, use\n",
    "# df.sample(replace=True)"
   ]
  },
  {
   "attachments": {},
   "cell_type": "markdown",
   "metadata": {},
   "source": [
    "Check the number of rows, columns:"
   ]
  },
  {
   "cell_type": "code",
   "execution_count": 6,
   "metadata": {},
   "outputs": [
    {
     "data": {
      "text/plain": [
       "(79638, 27)"
      ]
     },
     "execution_count": 6,
     "metadata": {},
     "output_type": "execute_result"
    }
   ],
   "source": [
    "df.shape"
   ]
  },
  {
   "cell_type": "markdown",
   "metadata": {},
   "source": [
    "Check type of each column:\n"
   ]
  },
  {
   "cell_type": "code",
   "execution_count": 7,
   "metadata": {},
   "outputs": [
    {
     "data": {
      "text/plain": [
       "Unnamed: 0       float64\n",
       "Bib               object\n",
       "Name              object\n",
       "Age                int64\n",
       "M/F               object\n",
       "City              object\n",
       "State             object\n",
       "Country           object\n",
       "Citizen           object\n",
       "Unnamed: 9        object\n",
       "5K                object\n",
       "10K               object\n",
       "15K               object\n",
       "20K               object\n",
       "Half              object\n",
       "25K               object\n",
       "30K               object\n",
       "35K               object\n",
       "40K               object\n",
       "Pace              object\n",
       "Proj Time         object\n",
       "Official Time     object\n",
       "Overall            int64\n",
       "Gender             int64\n",
       "Division           int64\n",
       "Year               int64\n",
       "Unnamed: 8        object\n",
       "dtype: object"
      ]
     },
     "execution_count": 7,
     "metadata": {},
     "output_type": "execute_result"
    }
   ],
   "source": [
    "df.dtypes\n",
    "\n"
   ]
  },
  {
   "attachments": {},
   "cell_type": "markdown",
   "metadata": {},
   "source": [
    "We can see that all columns relating to time are not of type numeric, which needs further processing.\n",
    "\n",
    "But let us finish inspecting first. Let's check if there are duplicates."
   ]
  },
  {
   "cell_type": "code",
   "execution_count": 8,
   "metadata": {},
   "outputs": [
    {
     "name": "stdout",
     "output_type": "stream",
     "text": [
      "Number of duplicate rows:  0\n"
     ]
    }
   ],
   "source": [
    "print(\"Number of duplicate rows: \", df.duplicated().sum())"
   ]
  },
  {
   "attachments": {},
   "cell_type": "markdown",
   "metadata": {},
   "source": [
    "Since there are no duplicates, we will randomly duplicate 10 rows and add them to the end of the original data frame for demonstration purpose. \n"
   ]
  },
  {
   "cell_type": "code",
   "execution_count": 9,
   "metadata": {},
   "outputs": [
    {
     "name": "stdout",
     "output_type": "stream",
     "text": [
      "Number of duplicate rows after tampering:  10\n"
     ]
    }
   ],
   "source": [
    "df = pd.concat([df, df.sample(n=10)])\n",
    "print('Number of duplicate rows after tampering: ', df.duplicated().sum())"
   ]
  },
  {
   "attachments": {},
   "cell_type": "markdown",
   "metadata": {},
   "source": [
    "Then we can remove the duplicating rows: "
   ]
  },
  {
   "cell_type": "code",
   "execution_count": 10,
   "metadata": {},
   "outputs": [],
   "source": [
    "df.drop_duplicates(inplace=True)\n"
   ]
  },
  {
   "attachments": {},
   "cell_type": "markdown",
   "metadata": {},
   "source": [
    "`df=df.drop_duplicates()` also works to remove the duplicating rows. \n",
    "\n",
    "Note: If we want to modify a dataframe without creating a new one, most dataframe operations support inplace argument. If we simply use `df.drop_duplicates()`, this will create a new copy of modified dataFrame. \n"
   ]
  },
  {
   "attachments": {},
   "cell_type": "markdown",
   "metadata": {},
   "source": [
    "\n",
    "### Transforming Data\n",
    "\n",
    "Previously, we mentioned that the format of time is not desirable. We want to change its type from object to numeric. One way to do is to convert to seconds using `pd.to_timedelta()` method. Let's take the 5K column as an example. "
   ]
  },
  {
   "cell_type": "code",
   "execution_count": 11,
   "metadata": {},
   "outputs": [
    {
     "data": {
      "text/plain": [
       "229"
      ]
     },
     "execution_count": 11,
     "metadata": {},
     "output_type": "execute_result"
    }
   ],
   "source": [
    "temp_5k_in_seconds = pd.to_timedelta(df['5K'], errors='coerce').dt.total_seconds()\n",
    "\n",
    "# check if there is any failure \n",
    "temp_5k_in_seconds.isna().sum()"
   ]
  },
  {
   "attachments": {},
   "cell_type": "markdown",
   "metadata": {},
   "source": [
    "We can see there are some conversion failures and we want to know why. Below locates the NaNs and checks the original values. We want to make sure that we do not lose any info.\n"
   ]
  },
  {
   "cell_type": "code",
   "execution_count": 12,
   "metadata": {},
   "outputs": [
    {
     "name": "stdout",
     "output_type": "stream",
     "text": [
      "2327     -\n",
      "3384     -\n",
      "3860     -\n",
      "7747     -\n",
      "8897     -\n",
      "        ..\n",
      "76395    -\n",
      "76478    -\n",
      "77631    -\n",
      "78322    -\n",
      "79349    -\n",
      "Name: 5K, Length: 229, dtype: object\n"
     ]
    }
   ],
   "source": [
    "print(df['5K'][np.where(pd.isna(temp_5k_in_seconds))[0]])\n",
    "\n",
    "# Another way to debug: \n",
    "# for i, str in enumerate(df['5K'].to_list()):\n",
    "#     try:\n",
    "#         pd.to_timedelta(str)\n",
    "#     except:\n",
    "#         print(i)\n",
    "#         print(str)\n",
    "#         break"
   ]
  },
  {
   "cell_type": "markdown",
   "metadata": {},
   "source": [
    "Now we convert all time related columns: \n"
   ]
  },
  {
   "cell_type": "code",
   "execution_count": 13,
   "metadata": {},
   "outputs": [],
   "source": [
    "columns = ['5K', '10K', '15K', '20K', 'Half', '25K', '30K', '35K', '40K', 'Pace', 'Proj Time', 'Official Time']\n",
    "\n",
    "for column in columns:\n",
    "    df[column] = pd.to_timedelta(df[column], errors='coerce').dt.total_seconds()\n"
   ]
  },
  {
   "cell_type": "code",
   "execution_count": 14,
   "metadata": {},
   "outputs": [
    {
     "data": {
      "text/plain": [
       "Unnamed: 0       float64\n",
       "Bib               object\n",
       "Name              object\n",
       "Age                int64\n",
       "M/F               object\n",
       "City              object\n",
       "State             object\n",
       "Country           object\n",
       "Citizen           object\n",
       "Unnamed: 9        object\n",
       "5K               float64\n",
       "10K              float64\n",
       "15K              float64\n",
       "20K              float64\n",
       "Half             float64\n",
       "25K              float64\n",
       "30K              float64\n",
       "35K              float64\n",
       "40K              float64\n",
       "Pace             float64\n",
       "Proj Time        float64\n",
       "Official Time    float64\n",
       "Overall            int64\n",
       "Gender             int64\n",
       "Division           int64\n",
       "Year               int64\n",
       "Unnamed: 8        object\n",
       "dtype: object"
      ]
     },
     "execution_count": 14,
     "metadata": {},
     "output_type": "execute_result"
    }
   ],
   "source": [
    "df.dtypes"
   ]
  },
  {
   "attachments": {},
   "cell_type": "markdown",
   "metadata": {},
   "source": [
    "**Exercise** Read Pandas document, choose a column and convert the time to minutes. "
   ]
  },
  {
   "attachments": {},
   "cell_type": "markdown",
   "metadata": {},
   "source": [
    "### Handle Missing Values\n",
    "\n",
    "Now we are ready to handle missing values. First, we check if each column in this df has missing values."
   ]
  },
  {
   "cell_type": "code",
   "execution_count": 15,
   "metadata": {},
   "outputs": [
    {
     "name": "stdout",
     "output_type": "stream",
     "text": [
      "Unnamed: 0       26630\n",
      "Bib                  0\n",
      "Name                 0\n",
      "Age                  0\n",
      "M/F                  0\n",
      "City                 1\n",
      "State             8993\n",
      "Country              0\n",
      "Citizen          76198\n",
      "Unnamed: 9       79480\n",
      "5K                 229\n",
      "10K                114\n",
      "15K                 51\n",
      "20K                 85\n",
      "Half                62\n",
      "25K                 81\n",
      "30K                 88\n",
      "35K                 86\n",
      "40K                 76\n",
      "Pace                 0\n",
      "Proj Time        53117\n",
      "Official Time        0\n",
      "Overall              0\n",
      "Gender               0\n",
      "Division             0\n",
      "Year                 0\n",
      "Unnamed: 8       79555\n",
      "dtype: int64\n"
     ]
    }
   ],
   "source": [
    "print(df.isnull().sum())"
   ]
  },
  {
   "attachments": {},
   "cell_type": "markdown",
   "metadata": {},
   "source": [
    "Before we do anything to the dataframe, we want to know why there are missing values. It is a good time to check the documentation page and the data source. \n",
    "\n",
    "From there, we know that State is only filled by USA runners and Citizen is an optional field that most runners chose not to fill when they registered. For the time related columns, missing values may occur becuase a runner's time is not recorded properly at a specific checkpoint. \n",
    "\n",
    "The columns *Unnamed: 9* and *Unnamed: 8* seems to be human error when the data is scraped. Let's not concern about them right now. "
   ]
  },
  {
   "attachments": {},
   "cell_type": "markdown",
   "metadata": {},
   "source": [
    "**Drop the missing values** \n",
    "\n",
    "If, however, you do not have a reason to figure out why there are missing values (which rarely happens), you can drop rows with NA's:"
   ]
  },
  {
   "cell_type": "code",
   "execution_count": 16,
   "metadata": {},
   "outputs": [
    {
     "name": "stdout",
     "output_type": "stream",
     "text": [
      "Unnamed: 0       0.0\n",
      "Bib              0.0\n",
      "Name             0.0\n",
      "Age              0.0\n",
      "M/F              0.0\n",
      "City             0.0\n",
      "State            0.0\n",
      "Country          0.0\n",
      "Citizen          0.0\n",
      "Unnamed: 9       0.0\n",
      "5K               0.0\n",
      "10K              0.0\n",
      "15K              0.0\n",
      "20K              0.0\n",
      "Half             0.0\n",
      "25K              0.0\n",
      "30K              0.0\n",
      "35K              0.0\n",
      "40K              0.0\n",
      "Pace             0.0\n",
      "Proj Time        0.0\n",
      "Official Time    0.0\n",
      "Overall          0.0\n",
      "Gender           0.0\n",
      "Division         0.0\n",
      "Year             0.0\n",
      "Unnamed: 8       0.0\n",
      "dtype: float64\n"
     ]
    },
    {
     "data": {
      "text/plain": [
       "(0, 27)"
      ]
     },
     "execution_count": 16,
     "metadata": {},
     "output_type": "execute_result"
    }
   ],
   "source": [
    "temp_na_rows_dropped = df.dropna()\n",
    "print(temp_na_rows_dropped.isnull().sum())\n",
    "\n",
    "temp_na_rows_dropped.shape\n"
   ]
  },
  {
   "attachments": {},
   "cell_type": "markdown",
   "metadata": {},
   "source": [
    "It looks like we removed all the data, because each row has at least one missing value. To validate our statement, we can perform the below operation: \n"
   ]
  },
  {
   "cell_type": "code",
   "execution_count": 17,
   "metadata": {},
   "outputs": [
    {
     "name": "stdout",
     "output_type": "stream",
     "text": [
      "79638\n"
     ]
    },
    {
     "data": {
      "text/plain": [
       "(79638, 27)"
      ]
     },
     "execution_count": 17,
     "metadata": {},
     "output_type": "execute_result"
    }
   ],
   "source": [
    "print(df.isnull().any(axis=1).sum())\n",
    "df.shape\n"
   ]
  },
  {
   "attachments": {},
   "cell_type": "markdown",
   "metadata": {},
   "source": [
    "The number of rows that has missing values is equal to the number of rows in this dataframe. How about dropping columns with missing values?\n"
   ]
  },
  {
   "cell_type": "code",
   "execution_count": 18,
   "metadata": {},
   "outputs": [
    {
     "name": "stdout",
     "output_type": "stream",
     "text": [
      "Bib              0\n",
      "Name             0\n",
      "Age              0\n",
      "M/F              0\n",
      "Country          0\n",
      "Pace             0\n",
      "Official Time    0\n",
      "Overall          0\n",
      "Gender           0\n",
      "Division         0\n",
      "Year             0\n",
      "dtype: int64\n"
     ]
    },
    {
     "data": {
      "text/plain": [
       "(79638, 11)"
      ]
     },
     "execution_count": 18,
     "metadata": {},
     "output_type": "execute_result"
    }
   ],
   "source": [
    "temp_na_columns_dropped = df.dropna(axis=1)\n",
    "print(temp_na_columns_dropped.isnull().sum())\n",
    "\n",
    "temp_na_columns_dropped.shape"
   ]
  },
  {
   "attachments": {},
   "cell_type": "markdown",
   "metadata": {},
   "source": [
    "We dropped all of the \"splits\" time, which is not ideal for detailed analysis. \n",
    "\n",
    "**Fill the missing values** \n",
    "\n",
    "Alternatively, we can also fill na's with appropriate values. In this case, we can fill the missing values with empty strings and 0's, depending on column type. "
   ]
  },
  {
   "cell_type": "code",
   "execution_count": 19,
   "metadata": {},
   "outputs": [
    {
     "data": {
      "text/html": [
       "<div>\n",
       "<style scoped>\n",
       "    .dataframe tbody tr th:only-of-type {\n",
       "        vertical-align: middle;\n",
       "    }\n",
       "\n",
       "    .dataframe tbody tr th {\n",
       "        vertical-align: top;\n",
       "    }\n",
       "\n",
       "    .dataframe thead th {\n",
       "        text-align: right;\n",
       "    }\n",
       "</style>\n",
       "<table border=\"1\" class=\"dataframe\">\n",
       "  <thead>\n",
       "    <tr style=\"text-align: right;\">\n",
       "      <th></th>\n",
       "      <th>Unnamed: 0</th>\n",
       "      <th>Bib</th>\n",
       "      <th>Name</th>\n",
       "      <th>Age</th>\n",
       "      <th>M/F</th>\n",
       "      <th>City</th>\n",
       "      <th>State</th>\n",
       "      <th>Country</th>\n",
       "      <th>Citizen</th>\n",
       "      <th>Unnamed: 9</th>\n",
       "      <th>...</th>\n",
       "      <th>35K</th>\n",
       "      <th>40K</th>\n",
       "      <th>Pace</th>\n",
       "      <th>Proj Time</th>\n",
       "      <th>Official Time</th>\n",
       "      <th>Overall</th>\n",
       "      <th>Gender</th>\n",
       "      <th>Division</th>\n",
       "      <th>Year</th>\n",
       "      <th>Unnamed: 8</th>\n",
       "    </tr>\n",
       "  </thead>\n",
       "  <tbody>\n",
       "    <tr>\n",
       "      <th>0</th>\n",
       "      <td>0.0</td>\n",
       "      <td>3</td>\n",
       "      <td>Desisa, Lelisa</td>\n",
       "      <td>25</td>\n",
       "      <td>M</td>\n",
       "      <td>Ambo</td>\n",
       "      <td></td>\n",
       "      <td>ETH</td>\n",
       "      <td></td>\n",
       "      <td></td>\n",
       "      <td>...</td>\n",
       "      <td>6479.0</td>\n",
       "      <td>7359.0</td>\n",
       "      <td>296.0</td>\n",
       "      <td>0.0</td>\n",
       "      <td>7757.0</td>\n",
       "      <td>1</td>\n",
       "      <td>1</td>\n",
       "      <td>1</td>\n",
       "      <td>2015</td>\n",
       "      <td></td>\n",
       "    </tr>\n",
       "    <tr>\n",
       "      <th>1</th>\n",
       "      <td>1.0</td>\n",
       "      <td>4</td>\n",
       "      <td>Tsegay, Yemane Adhane</td>\n",
       "      <td>30</td>\n",
       "      <td>M</td>\n",
       "      <td>Addis Ababa</td>\n",
       "      <td></td>\n",
       "      <td>ETH</td>\n",
       "      <td></td>\n",
       "      <td></td>\n",
       "      <td>...</td>\n",
       "      <td>6479.0</td>\n",
       "      <td>7362.0</td>\n",
       "      <td>298.0</td>\n",
       "      <td>0.0</td>\n",
       "      <td>7788.0</td>\n",
       "      <td>2</td>\n",
       "      <td>2</td>\n",
       "      <td>2</td>\n",
       "      <td>2015</td>\n",
       "      <td></td>\n",
       "    </tr>\n",
       "    <tr>\n",
       "      <th>2</th>\n",
       "      <td>2.0</td>\n",
       "      <td>8</td>\n",
       "      <td>Chebet, Wilson</td>\n",
       "      <td>29</td>\n",
       "      <td>M</td>\n",
       "      <td>Marakwet</td>\n",
       "      <td></td>\n",
       "      <td>KEN</td>\n",
       "      <td></td>\n",
       "      <td></td>\n",
       "      <td>...</td>\n",
       "      <td>6479.0</td>\n",
       "      <td>7381.0</td>\n",
       "      <td>299.0</td>\n",
       "      <td>0.0</td>\n",
       "      <td>7822.0</td>\n",
       "      <td>3</td>\n",
       "      <td>3</td>\n",
       "      <td>3</td>\n",
       "      <td>2015</td>\n",
       "      <td></td>\n",
       "    </tr>\n",
       "    <tr>\n",
       "      <th>3</th>\n",
       "      <td>3.0</td>\n",
       "      <td>11</td>\n",
       "      <td>Kipyego, Bernard</td>\n",
       "      <td>28</td>\n",
       "      <td>M</td>\n",
       "      <td>Eldoret</td>\n",
       "      <td></td>\n",
       "      <td>KEN</td>\n",
       "      <td></td>\n",
       "      <td></td>\n",
       "      <td>...</td>\n",
       "      <td>6483.0</td>\n",
       "      <td>7427.0</td>\n",
       "      <td>300.0</td>\n",
       "      <td>0.0</td>\n",
       "      <td>7847.0</td>\n",
       "      <td>4</td>\n",
       "      <td>4</td>\n",
       "      <td>4</td>\n",
       "      <td>2015</td>\n",
       "      <td></td>\n",
       "    </tr>\n",
       "    <tr>\n",
       "      <th>4</th>\n",
       "      <td>4.0</td>\n",
       "      <td>10</td>\n",
       "      <td>Korir, Wesley</td>\n",
       "      <td>32</td>\n",
       "      <td>M</td>\n",
       "      <td>Kitale</td>\n",
       "      <td></td>\n",
       "      <td>KEN</td>\n",
       "      <td></td>\n",
       "      <td></td>\n",
       "      <td>...</td>\n",
       "      <td>6479.0</td>\n",
       "      <td>7407.0</td>\n",
       "      <td>300.0</td>\n",
       "      <td>0.0</td>\n",
       "      <td>7849.0</td>\n",
       "      <td>5</td>\n",
       "      <td>5</td>\n",
       "      <td>5</td>\n",
       "      <td>2015</td>\n",
       "      <td></td>\n",
       "    </tr>\n",
       "  </tbody>\n",
       "</table>\n",
       "<p>5 rows × 27 columns</p>\n",
       "</div>"
      ],
      "text/plain": [
       "   Unnamed: 0 Bib                   Name  Age M/F         City State Country  \\\n",
       "0         0.0   3         Desisa, Lelisa   25   M         Ambo           ETH   \n",
       "1         1.0   4  Tsegay, Yemane Adhane   30   M  Addis Ababa           ETH   \n",
       "2         2.0   8         Chebet, Wilson   29   M     Marakwet           KEN   \n",
       "3         3.0  11       Kipyego, Bernard   28   M      Eldoret           KEN   \n",
       "4         4.0  10          Korir, Wesley   32   M       Kitale           KEN   \n",
       "\n",
       "  Citizen Unnamed: 9  ...     35K     40K   Pace  Proj Time  Official Time  \\\n",
       "0                     ...  6479.0  7359.0  296.0        0.0         7757.0   \n",
       "1                     ...  6479.0  7362.0  298.0        0.0         7788.0   \n",
       "2                     ...  6479.0  7381.0  299.0        0.0         7822.0   \n",
       "3                     ...  6483.0  7427.0  300.0        0.0         7847.0   \n",
       "4                     ...  6479.0  7407.0  300.0        0.0         7849.0   \n",
       "\n",
       "   Overall  Gender  Division  Year  Unnamed: 8  \n",
       "0        1       1         1  2015              \n",
       "1        2       2         2  2015              \n",
       "2        3       3         3  2015              \n",
       "3        4       4         4  2015              \n",
       "4        5       5         5  2015              \n",
       "\n",
       "[5 rows x 27 columns]"
      ]
     },
     "execution_count": 19,
     "metadata": {},
     "output_type": "execute_result"
    }
   ],
   "source": [
    "temp_filled = df.copy()\n",
    "for col in temp_filled.columns:\n",
    "    if df[col].dtype == 'object':\n",
    "        temp_filled[col].fillna('', inplace=True)\n",
    "    else:\n",
    "        temp_filled[col].fillna(0, inplace=True)\n",
    "\n",
    "temp_filled.head()"
   ]
  },
  {
   "attachments": {},
   "cell_type": "markdown",
   "metadata": {},
   "source": [
    "**Impute the missing values**\n",
    "\n",
    "The split times of some runners are not recorded properly and are set to NaN when we tried to convert time to seconds. In this case, one way to impute these NaN's is to take the portion of official time accordingly. "
   ]
  },
  {
   "cell_type": "code",
   "execution_count": 20,
   "metadata": {},
   "outputs": [],
   "source": [
    "columns = [[5, '5K'], [10, '10K'], [15, '15K'], [20, '20K'], [42.195/2, 'Half'], [25, '25K'], [30, '30K'], [35, '35K'], [40, '40K']]\n",
    "\n",
    "df_imputed = df.copy()\n",
    "\n",
    "for [miles, column] in columns:\n",
    "    df_imputed.loc[df[column].isna(), column] = df['Official Time'][df[column].isna()] * (miles / 42.195)\n",
    "\n"
   ]
  },
  {
   "cell_type": "code",
   "execution_count": 21,
   "metadata": {},
   "outputs": [
    {
     "data": {
      "text/plain": [
       "Unnamed: 0       26630\n",
       "Bib                  0\n",
       "Name                 0\n",
       "Age                  0\n",
       "M/F                  0\n",
       "City                 1\n",
       "State             8993\n",
       "Country              0\n",
       "Citizen          76198\n",
       "Unnamed: 9       79480\n",
       "5K                   0\n",
       "10K                  0\n",
       "15K                  0\n",
       "20K                  0\n",
       "Half                 0\n",
       "25K                  0\n",
       "30K                  0\n",
       "35K                  0\n",
       "40K                  0\n",
       "Pace                 0\n",
       "Proj Time        53117\n",
       "Official Time        0\n",
       "Overall              0\n",
       "Gender               0\n",
       "Division             0\n",
       "Year                 0\n",
       "Unnamed: 8       79555\n",
       "dtype: int64"
      ]
     },
     "execution_count": 21,
     "metadata": {},
     "output_type": "execute_result"
    }
   ],
   "source": [
    "df_imputed.isnull().sum()"
   ]
  },
  {
   "attachments": {},
   "cell_type": "markdown",
   "metadata": {},
   "source": [
    "**Exercise** Can you think of other ways to fill missing split time? Write your ideas or codes. "
   ]
  },
  {
   "cell_type": "markdown",
   "metadata": {},
   "source": [
    "\n",
    "Note that any method dealing with missing values adds additional bias to our data. Choose them wisely!"
   ]
  },
  {
   "attachments": {},
   "cell_type": "markdown",
   "metadata": {},
   "source": [
    "## Explanatory Data Analysis (EDA)\n",
    "\n",
    "### What are the differences?\n",
    "\n",
    "Data wrangling and exploratory data analysis (EDA) are two important steps in the data analysis process. While they are related, they serve distinct purposes. \n",
    "\n",
    "**Data wrangling** focuses on cleaning, transforming, and preparing raw data for analysis. It ensures data quality and prepares it for further processing. Techniques include cleaning, preprocessing, and aggregation.\n",
    "\n",
    "**Exploratory Data Analysis (EDA)** involves analyzing and visualizing data to gain insights, identify patterns, and understand its structure. It explores relationships between variables, detects outliers, and generates hypotheses.\n",
    "\n",
    "Data wrangling sets the foundation for EDA by ensuring data quality and structure, while EDA helps in understanding the data and generating hypotheses for further analysis. Both steps are crucial in the data analysis process and often go hand in hand. \n"
   ]
  },
  {
   "attachments": {},
   "cell_type": "markdown",
   "metadata": {},
   "source": [
    "### Data Exploration\n",
    "First, we deplay summary statistics for numeric columns. "
   ]
  },
  {
   "cell_type": "code",
   "execution_count": 22,
   "metadata": {},
   "outputs": [
    {
     "name": "stdout",
     "output_type": "stream",
     "text": [
      "Summary statistics:\n",
      "          Unnamed: 0           Age            5K           10K           15K  \\\n",
      "count  53008.000000  79638.000000  79409.000000  79524.000000  79587.000000   \n",
      "mean   13251.666692     42.415166   1527.392361   3056.006124   4610.047307   \n",
      "std     7651.406646     11.355453    238.229185    479.974721    736.051219   \n",
      "min        0.000000     18.000000    883.000000   1783.000000   2697.000000   \n",
      "25%     6625.750000     34.000000   1355.000000   2711.000000   4085.000000   \n",
      "50%    13251.500000     42.000000   1497.000000   2992.000000   4508.000000   \n",
      "75%    19877.250000     50.000000   1654.000000   3312.000000   4997.000000   \n",
      "max    26597.000000     84.000000   3350.000000   6436.000000   9705.000000   \n",
      "\n",
      "                20K         Half           25K           30K           35K  \\\n",
      "count  79553.000000  79576.00000  79557.000000  79550.000000  79552.000000   \n",
      "mean    6213.512727   6559.22601   7857.497744   9595.217197  11409.743715   \n",
      "std     1019.400499   1077.86020   1328.821194   1670.760154   2024.275266   \n",
      "min     3628.000000   3841.00000   4565.000000   5519.000000   6479.000000   \n",
      "25%     5495.000000   5801.00000   6928.000000   8432.000000   9998.000000   \n",
      "50%     6064.000000   6399.00000   7648.000000   9326.000000  11079.000000   \n",
      "75%     6734.000000   7108.00000   8527.000000  10446.000000  12463.000000   \n",
      "max    16180.000000  17237.00000  16566.000000  27398.000000  24691.000000   \n",
      "\n",
      "                40K          Pace     Proj Time  Official Time       Overall  \\\n",
      "count  79562.000000  79638.000000  26521.000000   79638.000000  79638.000000   \n",
      "mean   13211.480380    534.086529  14110.096904   13989.929167  13273.683417   \n",
      "std     2357.102722     95.090340   2466.363480    2492.272069   7663.512720   \n",
      "min     7359.000000    296.000000   7965.000000    7757.000000      1.000000   \n",
      "25%    11571.000000    468.000000  12394.000000   12258.000000   6637.250000   \n",
      "50%    12830.000000    519.000000  13692.000000   13592.000000  13273.500000   \n",
      "75%    14469.000000    585.000000  15411.000000   15325.000000  19910.000000   \n",
      "max    28752.000000   1470.000000  38536.000000   37823.000000  26629.000000   \n",
      "\n",
      "             Gender      Division          Year  \n",
      "count  79638.000000  79638.000000  79638.000000  \n",
      "mean    6693.365064   1618.782792   2015.997639  \n",
      "std     3927.594786   1448.369424      0.815852  \n",
      "min        1.000000      1.000000   2015.000000  \n",
      "25%     3319.000000    510.000000   2015.000000  \n",
      "50%     6637.000000   1179.500000   2016.000000  \n",
      "75%     9955.000000   2219.000000   2017.000000  \n",
      "max    14581.000000   6004.000000   2017.000000  \n"
     ]
    }
   ],
   "source": [
    "print(\"Summary statistics:\\n\", df.describe())\n"
   ]
  },
  {
   "attachments": {},
   "cell_type": "markdown",
   "metadata": {},
   "source": [
    "Some example questions to ask:\n",
    "\n",
    "- How many runners participated 3 years in a row? What are their names? (For simplicity, we do not consider people with the same names)"
   ]
  },
  {
   "cell_type": "code",
   "execution_count": 25,
   "metadata": {},
   "outputs": [
    {
     "name": "stdout",
     "output_type": "stream",
     "text": [
      "Number of runners who participated 3 years in a row: 2318\n"
     ]
    },
    {
     "data": {
      "text/plain": [
       "['Stanley Torres, Dana',\n",
       " 'Warncke, Rich',\n",
       " 'Kerr, Abbe',\n",
       " 'Bryant, Jennifer',\n",
       " 'Delaney, Jennifer',\n",
       " 'Dillon, Michelle A',\n",
       " 'Shapiro, Julie-Ann',\n",
       " 'Proulx, Alexandre',\n",
       " 'Tsoucas, Daphne',\n",
       " 'Boland, Thomas']"
      ]
     },
     "execution_count": 25,
     "metadata": {},
     "output_type": "execute_result"
    }
   ],
   "source": [
    "# Create separate sets of names for each year\n",
    "names_2015 = set(df[df['Year'] == 2015]['Name'])\n",
    "names_2016 = set(df[df['Year'] == 2016]['Name'])\n",
    "names_2017 = set(df[df['Year'] == 2017]['Name'])\n",
    "\n",
    "# Find the intersection of the three sets\n",
    "common_names = names_2015.intersection(names_2016, names_2017)\n",
    "\n",
    "# Length of common_names\n",
    "common_names_length = len(common_names)\n",
    "\n",
    "# Print the length\n",
    "print(\"Number of runners who participated 3 years in a row:\", common_names_length)\n",
    "\n",
    "# Show first 10 names\n",
    "list(common_names)[0:10]\n",
    "\n"
   ]
  },
  {
   "attachments": {},
   "cell_type": "markdown",
   "metadata": {},
   "source": [
    "- Who are the winners of each year?"
   ]
  },
  {
   "cell_type": "code",
   "execution_count": null,
   "metadata": {},
   "outputs": [],
   "source": [
    "winners = []\n",
    "for year in df['Year'].unique():\n",
    "    winner = df.loc[(df['Year'] == year) & (df['Overall'] == 1), 'Name'].values[0]\n",
    "    winners.append(winner)\n",
    "\n",
    "# Print winners and years side by side\n",
    "for i in range(len(winners)):\n",
    "    print(f\"{winners[i]} - {df['Year'].unique()[i]}\")"
   ]
  },
  {
   "attachments": {},
   "cell_type": "markdown",
   "metadata": {},
   "source": [
    "- Who is the oldest runner of each gender, out of these three years?"
   ]
  },
  {
   "cell_type": "code",
   "execution_count": null,
   "metadata": {},
   "outputs": [],
   "source": [
    "# Group the data by gender\n",
    "grouped_data = df.groupby('M/F')\n",
    "\n",
    "# Loop through each group\n",
    "for gender, group in grouped_data:\n",
    "    # Find the row with the largest age in the group\n",
    "    max_age_row = group[group['Age'] == group['Age'].max()]\n",
    "    # Print the name with the largest age in the group\n",
    "    print(\"Gender:\", gender)\n",
    "    print(\"Name with the largest age:\", max_age_row['Name'].values[0])\n",
    "    print(\"Age:\", max_age_row['Age'].values[0])\n",
    "    print(\"--------------------\")\n",
    "\n"
   ]
  },
  {
   "attachments": {},
   "cell_type": "markdown",
   "metadata": {},
   "source": [
    "**Exercise** Who are the fastest female runners in each year? How do you check the validity of your analysis?"
   ]
  },
  {
   "attachments": {},
   "cell_type": "markdown",
   "metadata": {},
   "source": [
    "### Data Engineering\n",
    "\n",
    "We can create some new features based on our data. One feature we can add is the division name.\n",
    "\n"
   ]
  },
  {
   "cell_type": "code",
   "execution_count": null,
   "metadata": {},
   "outputs": [],
   "source": [
    "age_group_mapping = {\n",
    "    'M18-39': ['M', 18, 39],\n",
    "    'M40-44': ['M', 40, 44],\n",
    "    'M45-49': ['M', 45, 49],\n",
    "    'M50-54': ['M', 50, 54],\n",
    "    'M55-59': ['M', 55, 59],\n",
    "    'M60-64': ['M', 60, 64],\n",
    "    'M65-69': ['M', 65, 69],\n",
    "    'M70-74': ['M', 70, 74],\n",
    "    'M75-79': ['M', 75, 79],\n",
    "    'M80+': ['M', 80, float('inf')],\n",
    "    'F18-39': ['F', 18, 39],\n",
    "    'F40-44': ['F', 40, 44],\n",
    "    'F45-49': ['F', 45, 49],\n",
    "    'F50-54': ['F', 50, 54],\n",
    "    'F55-59': ['F', 55, 59],\n",
    "    'F60-64': ['F', 60, 64],\n",
    "    'F65-69': ['F', 65, 69],\n",
    "    'F70-74': ['F', 70, 74],\n",
    "    'F75-79': ['F', 75, 79],\n",
    "    'F80+': ['F', 80, float('inf')]\n",
    "}\n",
    "\n",
    "\n",
    "# Create an empty column for Age/Gender group\n",
    "df['Division Name'] = ''\n",
    "\n",
    "# Iterate over each row in the DataFrame\n",
    "for index, row in df.iterrows():\n",
    "    gender = row['M/F']\n",
    "    age = row['Age']\n",
    "    \n",
    "    # Find the matching age group in the mapping\n",
    "    for key, value in age_group_mapping.items():\n",
    "        if value[0] == gender and value[1] <= age <= value[2]:\n",
    "            df.at[index, 'Division Name'] = key\n",
    "            break\n"
   ]
  },
  {
   "attachments": {},
   "cell_type": "markdown",
   "metadata": {},
   "source": [
    "Note: Similar to `loc`, in that both provide label-based lookups. Use at if you only need to get or set a single value in a DataFrame or Series. \n",
    "\n",
    "Food of thought: why are we not simply using brackets? \n",
    "Hint: https://pandas.pydata.org/docs/user_guide/indexing.html#indexing-basics-get-value"
   ]
  },
  {
   "attachments": {},
   "cell_type": "markdown",
   "metadata": {},
   "source": [
    "### Data Visualization\n",
    "\n",
    "#### Histogram: Age distributions"
   ]
  },
  {
   "cell_type": "code",
   "execution_count": null,
   "metadata": {},
   "outputs": [],
   "source": [
    "import matplotlib.pyplot as plt\n",
    "\n",
    "# Create a histogram of age distribution\n",
    "plt.hist(data['Age'], bins=20, edgecolor='black')\n",
    "plt.xlabel('Age')\n",
    "plt.ylabel('Frequency')\n",
    "plt.title('Age Distribution')\n",
    "plt.show()\n"
   ]
  },
  {
   "attachments": {},
   "cell_type": "markdown",
   "metadata": {},
   "source": [
    "#### Scatter Plot with Trend Line: Finish Time vs Age"
   ]
  },
  {
   "cell_type": "code",
   "execution_count": null,
   "metadata": {},
   "outputs": [],
   "source": [
    "\n",
    "import numpy as np\n",
    "import matplotlib.pyplot as plt\n",
    "\n",
    "# Create a scatter plot of finish time vs. age\n",
    "plt.scatter(df['Age'], df['Official Time'] / 3600)\n",
    "plt.xlabel('Age')\n",
    "plt.ylabel('Finish Time (hours)')\n",
    "plt.title('Finish Time vs. Age')\n",
    "\n",
    "# Add trend line\n",
    "z = np.polyfit(df['Age'], df['Official Time'] / 3600, 1)\n",
    "p = np.poly1d(z)\n",
    "plt.plot(df['Age'], p(df['Age']), \"r--\")\n",
    "\n",
    "plt.show()\n",
    "\n"
   ]
  },
  {
   "attachments": {},
   "cell_type": "markdown",
   "metadata": {},
   "source": [
    "#### Box Plot: Division Vs Finish Time"
   ]
  },
  {
   "cell_type": "code",
   "execution_count": null,
   "metadata": {},
   "outputs": [],
   "source": [
    "import seaborn as sns\n",
    "\n",
    "# Create a box plot of finish time by gender\n",
    "df['Official Time (Hr)']=df['Official Time']/3600\n",
    "sns.boxplot(x='Division Name', y='Official Time (Hr)', data=df)\n",
    "plt.xlabel('Division')\n",
    "plt.ylabel('Finish Time')\n",
    "plt.title('Finish Time by Division')\n",
    "plt.rcParams['figure.figsize'] = [12, 8]\n",
    "plt.xticks(rotation=45)\n",
    "plt.show()\n",
    "\n",
    "\n",
    "\n"
   ]
  },
  {
   "attachments": {},
   "cell_type": "markdown",
   "metadata": {},
   "source": [
    "#### Line chart: Does Top Runners stays top for the whole race?\n",
    "\n",
    "For the fastest 10 runners in 2015, create a line chart based on their splits. "
   ]
  },
  {
   "cell_type": "code",
   "execution_count": null,
   "metadata": {},
   "outputs": [],
   "source": [
    "\n",
    "df_2015 = df[df['Year'] == 2015].sort_values('Official Time')\n",
    "\n",
    "# Select the top 10 runners\n",
    "top_10 = df_2015.head(10)\n",
    "\n",
    "for index, row in top_10.iterrows():\n",
    "    plt.plot(row[['5K', '10K', '15K', '20K', 'Half', '25K', '30K', '35K', '40K', 'Official Time']], label=row['Name'])\n",
    "\n",
    "plt.xlabel('Distance')\n",
    "plt.ylabel('Time (Seconds)')\n",
    "plt.title('Top 10 Runners in 2015')\n",
    "plt.legend()\n",
    "plt.show()"
   ]
  },
  {
   "attachments": {},
   "cell_type": "markdown",
   "metadata": {},
   "source": [
    "**Exercise** Create a scatterplot whose x-axis is Division Name and y-axis is average time in hours. \n",
    "\n",
    "Hint: Group the data by Division Name first. "
   ]
  },
  {
   "attachments": {},
   "cell_type": "markdown",
   "metadata": {},
   "source": [
    "References: \n",
    "\n",
    "[1] [https://online.hbs.edu/blog/post/data-wrangling](https://online.hbs.edu/blog/post/data-wrangling)\n",
    "\n",
    "[2] [https://www.tomasbeuzen.com/python-programming-for-data-science/](https://www.tomasbeuzen.com/python-programming-for-data-science/)\n",
    "\n",
    "[3] [https://www.kaggle.com/learn/data-cleaning](https://www.kaggle.com/learn/data-cleaning)\n",
    "\n",
    "[4] [Pandas Documentation](https://pandas.pydata.org/docs/user_guide/index.html)"
   ]
  },
  {
   "attachments": {},
   "cell_type": "markdown",
   "metadata": {},
   "source": [
    "## Take home exercises\n",
    "\n",
    "1. Find the fastest runner in each division in 2015 and print their names.\n",
    "2. What other features do you think should be added to our dataset? Can they be engineered from existing columns?\n",
    "3. Apply the data wrangling and EDA skills you learned today to your favorite dataset. "
   ]
  }
 ],
 "metadata": {
  "kernelspec": {
   "display_name": "Python 3",
   "language": "python",
   "name": "python3"
  },
  "language_info": {
   "codemirror_mode": {
    "name": "ipython",
    "version": 3
   },
   "file_extension": ".py",
   "mimetype": "text/x-python",
   "name": "python",
   "nbconvert_exporter": "python",
   "pygments_lexer": "ipython3",
   "version": "3.9.12"
  },
  "orig_nbformat": 4
 },
 "nbformat": 4,
 "nbformat_minor": 2
}
